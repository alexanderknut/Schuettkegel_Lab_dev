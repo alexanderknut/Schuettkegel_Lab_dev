{
 "cells": [
  {
   "cell_type": "code",
   "execution_count": 1,
   "id": "bfdbd30f",
   "metadata": {},
   "outputs": [],
   "source": [
    "import os\n",
    "import glob\n",
    "import pandas as pd\n",
    "from datetime import datetime"
   ]
  },
  {
   "cell_type": "code",
   "execution_count": 2,
   "id": "2665afaa",
   "metadata": {},
   "outputs": [],
   "source": [
    "directory_path = r\"C:\\Users\\knut\\Nextcloud\\Geotechnik-Freigaben\\Dienstleistung\\Versuche_FuE\\F_05_Schüttkegel_Anton\\Versuche\""
   ]
  },
  {
   "cell_type": "markdown",
   "id": "77e0fda8",
   "metadata": {},
   "source": [
    "**Definitions**"
   ]
  },
  {
   "cell_type": "code",
   "execution_count": 3,
   "id": "977bab87",
   "metadata": {},
   "outputs": [],
   "source": [
    "def find_latest_csv_files(directory):\n",
    "    \"\"\"\n",
    "    Findet die neueste CSV-Datei in jedem Unterordner des angegebenen Verzeichnisses.\n",
    "\n",
    "    Parameter:\n",
    "    directory (str): Der Pfad zum Hauptverzeichnis, in dem gesucht werden soll.\n",
    "\n",
    "    Returns:\n",
    "    dict: Ein Wörterbuch mit Ordnerpfaden als Schlüssel und den Pfaden der neuesten CSV-Dateien als Werte.\n",
    "    \"\"\"\n",
    "    latest_files = {}\n",
    "\n",
    "    # Durchlaufe alle Unterverzeichnisse\n",
    "    for root, _, _ in os.walk(directory):\n",
    "        # Suche nach allen .csv-Dateien im aktuellen Verzeichnis\n",
    "        csv_files = glob.glob(os.path.join(root, '*.csv'))\n",
    "\n",
    "        if csv_files:\n",
    "            # Finde die neueste CSV-Datei im aktuellen Verzeichnis\n",
    "            latest_csv = max(csv_files, key=os.path.getmtime)\n",
    "            latest_files[root] = latest_csv\n",
    "\n",
    "    return latest_files\n"
   ]
  },
  {
   "cell_type": "markdown",
   "id": "28a37f85",
   "metadata": {},
   "source": [
    "*Load CSV Files* <br>\n",
    "load all *.csv-files withing the directory_path and its sub directories <br>\n",
    "and choose the latest *.csv within this subfolder <br>\n",
    "it is assumed that this is the one with the most recent and correct data"
   ]
  },
  {
   "cell_type": "code",
   "execution_count": 4,
   "id": "99ee6e3a",
   "metadata": {},
   "outputs": [],
   "source": [
    "latest_csv_files = find_latest_csv_files(directory_path)\n",
    "latest_csv_files_list = list(latest_csv_files.items())\n",
    "n = len(latest_csv_files_list)\n",
    "\n",
    "df = pd.DataFrame(index=range(31))\n",
    "\n",
    "# Pfad in seine Komponenten aufteilen\n",
    "for i in range(n):\n",
    "    path_parts = os.path.normpath(latest_csv_files_list[i][1]).split(os.sep)\n",
    "    data = pd.read_csv(latest_csv_files_list[i][1],usecols=['Value'])\n",
    "    new_row = pd.DataFrame({\n",
    "    \"Value\": [path_parts[-4],path_parts[-3],path_parts[-2]]\n",
    "    })\n",
    "    data = pd.concat([new_row, data]).reset_index(drop=True)\n",
    "    #df = data.copy()\n",
    "    keyname =str(i)  \n",
    "    df[keyname] = list(data.T.iloc[0])\n",
    "\n",
    "row_names = pd.read_csv(latest_csv_files_list[0][1],usecols=['Parameter'])\n",
    "new_row_names = pd.DataFrame({'Parameter' : ['KGV', 'Specimen', 'Test']})\n",
    "row_names = pd.concat([new_row_names, row_names]).reset_index(drop=True)\n",
    "df.index = row_names.T.iloc[0]\n",
    "\n",
    "#data.loc[len(data)] = [\"Subset\", \"SP-4-A\", \"-\", \"-\"]\n",
    "# # Verarbeitung der neuesten CSV-Dateien\n",
    "# for folder, csv_file in latest_csv_files.items():\n",
    "#     print(f\"Neueste CSV in '{folder}': {csv_file}\")\n",
    "#     # Hier können Sie Ihren Code zur weiteren Verarbeitung der Dateien einfügen"
   ]
  },
  {
   "cell_type": "code",
   "execution_count": 5,
   "id": "f8f47578",
   "metadata": {},
   "outputs": [],
   "source": [
    "# Bedingungen für die Tabs festlegen\n",
    "df_transpose = df.T\n",
    "categories = df_transpose['KGV'].unique()  # ['A', 'B']\n",
    "#print(categories)\n",
    "with pd.ExcelWriter('output.xlsx', engine='xlsxwriter') as writer:\n",
    "    for category in categories:\n",
    "        # DataFrame entsprechend der Bedingung filtern\n",
    "        subset_df = df_transpose[df_transpose['KGV'] == category]\n",
    "        subset_df.to_excel(writer, sheet_name=f'KGV_{category}', index=False)"
   ]
  }
 ],
 "metadata": {
  "kernelspec": {
   "display_name": "base",
   "language": "python",
   "name": "python3"
  },
  "language_info": {
   "codemirror_mode": {
    "name": "ipython",
    "version": 3
   },
   "file_extension": ".py",
   "mimetype": "text/x-python",
   "name": "python",
   "nbconvert_exporter": "python",
   "pygments_lexer": "ipython3",
   "version": "3.13.5"
  }
 },
 "nbformat": 4,
 "nbformat_minor": 5
}
