{
 "cells": [
  {
   "cell_type": "code",
   "execution_count": 148,
   "id": "24cd0feb",
   "metadata": {},
   "outputs": [],
   "source": [
    "import csv\n",
    "import datetime\n",
    "import glob\n",
    "import os\n",
    "import re\n",
    "import numpy as np\n",
    "import pandas as pd\n",
    "import matplotlib.pyplot as plt\n",
    "from matplotlib.lines import Line2D\n",
    "from scipy.signal import medfilt\n",
    "from scipy.signal import find_peaks\n",
    "from scipy.signal import correlate"
   ]
  },
  {
   "cell_type": "markdown",
   "id": "40c876db",
   "metadata": {},
   "source": [
    "**Preprocess the data**"
   ]
  },
  {
   "cell_type": "markdown",
   "id": "2e748658",
   "metadata": {},
   "source": [
    "*load data*"
   ]
  },
  {
   "cell_type": "code",
   "execution_count": 149,
   "id": "f332e85e",
   "metadata": {},
   "outputs": [
    {
     "name": "stdout",
     "output_type": "stream",
     "text": [
      "664.99 Masse der Probe ist: 664,99 g\n"
     ]
    }
   ],
   "source": [
    "# Issues:\n",
    "# Integrate calibration or load SCALE_X and SCALE_Y directly\n",
    "# Calculation of the rotation angle derived from binary_angle_code not working, 12bit (4096 Values) ???\n",
    "# Influence of x_int ... the intersection of the slope with the bottom line of the turning plat is \n",
    "# strong and should be investigated more\n",
    "\n",
    "\n",
    "main_path = r\"C:\\Users\\knut\\Nextcloud\\Geotechnik-Freigaben\\Dienstleistung\\Versuche_FuE\\F_05_Schüttkegel_Anton\\Versuche\"\n",
    "psd = r\"SP_4_A\"\n",
    "subset = r\"SP-4-A-1\"\n",
    "trial = 5\n",
    "\n",
    "folder = os.path.join(main_path,psd, subset, str(trial))\n",
    "z_files = glob.glob(os.path.join(folder, \"*_Z_*.npy\"))\n",
    "lumi_files = glob.glob(os.path.join(folder, \"*_LUMI_*.npy\"))\n",
    "Info_files = glob.glob(os.path.join(folder, \"*_Info_*\"))\n",
    "\n",
    "#os.path.join(main_path, subset, str(trial),f\"*_Z_*.npy\")\n",
    "\n",
    "calib_center_lumi = np.load(r\"C:\\Users\\knut\\Nextcloud\\Geotechnik-Freigaben\\Dienstleistung\\Versuche_FuE\\F_05_Schüttkegel_Anton\\Kalibrierung_mitMaß\\lumi_20250825_141755.npy\")\n",
    "calib_center_z = np.load(r\"C:\\Users\\knut\\Nextcloud\\Geotechnik-Freigaben\\Dienstleistung\\Versuche_FuE\\F_05_Schüttkegel_Anton\\Kalibrierung_mitMaß\\z_20250825_141755.npy\")\n",
    "calib_z = np.load(r\"C:\\Users\\knut\\Nextcloud\\Geotechnik-Freigaben\\Dienstleistung\\Versuche_FuE\\F_05_Schüttkegel_Anton\\Kalibrierung_leerfahrt\\z_20250825_140258.npy\")\n",
    "if z_files:\n",
    "    z_data = np.load(z_files[0])\n",
    "else:\n",
    "    print(\"No Z file found.\")\n",
    "\n",
    "if lumi_files:\n",
    "    lumi_data = np.load(lumi_files[0])\n",
    "else:\n",
    "    print(\"No LUMI file found.\")\n",
    "\n",
    "if Info_files:\n",
    "    with open(Info_files[0], 'r', encoding='utf-8') as file:\n",
    "        # Lies alle Zeilen der Datei in eine Liste\n",
    "        lines = file.readlines()\n",
    "for line in lines:\n",
    "    line = line.strip()\n",
    "    match = re.findall(r\"\\d+,\\d+\", line)\n",
    "    if match:\n",
    "        number_str = match[0].replace(',', '.')\n",
    "        dry_mass = float(number_str)\n",
    "    # Mach etwas mit der Zeile\n",
    "    print(dry_mass, line)\n",
    "\n",
    "SCALE_Z = 0.004007365634710554 #derived by kalibrierung.ipynb\n",
    "SCALE_X = 0.050200803212851405 #derived by kalibrierung.ipynb "
   ]
  },
  {
   "cell_type": "markdown",
   "id": "c957aa11",
   "metadata": {},
   "source": [
    "**Preprocess Data**"
   ]
  },
  {
   "cell_type": "code",
   "execution_count": 150,
   "id": "a77e1338",
   "metadata": {},
   "outputs": [],
   "source": [
    "KERNELSIZE_LUMI = 5\n",
    "KERNELSIZE_Z = 3\n",
    "# truncate data which exceed 13000 values\n",
    "if z_data.shape[1] > 13000:\n",
    "    z_data = z_data[:,:13000]\n",
    "if lumi_data.shape[1] > 13000:\n",
    "    lumi_data = lumi_data[:,:13000]\n",
    "# Convert to object scale\n",
    "# filter lumi data by moving median in 2D\n",
    "lumi_data_f = np.zeros(np.shape(lumi_data))\n",
    "for i in range(lumi_data_f.shape[0]):\n",
    "    lumi_data_f[i,:-1] = medfilt(lumi_data[i,:-1],KERNELSIZE_LUMI)\n",
    "for j in range(lumi_data.shape[1]):\n",
    "    lumi_data_f[:-1,j] = medfilt(lumi_data_f[:-1,j],KERNELSIZE_LUMI)\n",
    "#\n",
    "#\n",
    "# filter z-data by moving median in 2D\n",
    "z_data_f = np.zeros(np.shape(z_data))\n",
    "for i in range(z_data_f.shape[0]):\n",
    "    z_data_f[i,:-1] = medfilt(z_data[i,:-1],KERNELSIZE_Z)\n",
    "for j in range(z_data.shape[1]):\n",
    "    z_data_f[:-1,j] = medfilt(z_data_f[:-1,j],KERNELSIZE_Z)\n",
    "\n",
    "# truncate last column to avoid edge effects of the median filter\n",
    "z_data_f = z_data_f[:,:-1]\n",
    "lumi_data_f = lumi_data_f[:,:-1]\n",
    "x_data_f = np.linspace(0,len(z_data_f),len(z_data_f))\n",
    "x_data = np.linspace(0,len(z_data),len(z_data))\n"
   ]
  },
  {
   "cell_type": "markdown",
   "id": "e3899dad",
   "metadata": {},
   "source": [
    "*find rotation center*"
   ]
  },
  {
   "cell_type": "markdown",
   "id": "90efe503",
   "metadata": {},
   "source": [
    "*Procedure 1: Using the drawn circle* (not working)"
   ]
  },
  {
   "cell_type": "code",
   "execution_count": null,
   "id": "d1d03186",
   "metadata": {},
   "outputs": [],
   "source": [
    "calib_center_median_z = np.median(calib_center_z)\n",
    "calib_center_median_lumi = np.median(calib_center_lumi)\n",
    "\n",
    "mask_array_z = np.zeros(calib_center_z.shape)\n",
    "mask_array_lumi = np.zeros(calib_center_lumi.shape)\n",
    "for j in range(calib_center_z.shape[1]):\n",
    "    mask_array_z[:,j] = (calib_center_z[:,j] > 0.95*calib_center_median_z) & (calib_center_z[:,j] < 1.05*calib_center_median_z)\n",
    "    mask_array_lumi[:,j] = (calib_center_lumi[:,j] > 0.35*calib_center_median_lumi) & (calib_center_lumi[:,j] < 0.65*calib_center_median_lumi)\n",
    "\n",
    "\n",
    "calib_center_lumi_f = np.where(mask_array_z,calib_center_lumi,-1)\n",
    "calib_center_lumi_f = np.where(mask_array_lumi,calib_center_lumi_f,-1)\n",
    "\n",
    "#print(np.shape(mask_array),np.sum(mask_array[1,:]))\n",
    "\n",
    "print(0.35*calib_center_median_lumi, 0.65*calib_center_median_lumi)\n",
    "plt.plot(calib_center_lumi_f[1:800,1:-1:100])\n",
    "plt.ylim(0,1000)\n",
    "plt.show()"
   ]
  },
  {
   "cell_type": "markdown",
   "id": "1190060b",
   "metadata": {},
   "source": [
    "*Procedure 2: Calculationg a linear regression on each side of the cone and utilze the intersection point*"
   ]
  },
  {
   "cell_type": "code",
   "execution_count": 151,
   "id": "19a2ed8e",
   "metadata": {},
   "outputs": [
    {
     "name": "stdout",
     "output_type": "stream",
     "text": [
      "Median of intersection points: 15.6 mm +- 5.2 mm\n"
     ]
    }
   ],
   "source": [
    "INNERCENTEROFFSET = 30 # offset from the center to start the search for the inner edge\n",
    "OUTERCENTEROFFSET = 100 # offset from the center to start the search for the outer edge\n",
    "x_int = np.zeros(np.shape(z_data_f)[1])\n",
    "index_max_z = np.zeros(np.shape(z_data_f)[1],dtype=int)\n",
    "index_max_z = np.argmax(z_data_f,axis=0)\n",
    "for i in range(np.shape(z_data_f)[1]):\n",
    "    # define left and right fit ranges\n",
    "    left_start = max(0, int(index_max_z[i]-OUTERCENTEROFFSET))\n",
    "    left_stop = max(0, int(index_max_z[i]-INNERCENTEROFFSET))\n",
    "    right_start = min(z_data_f.shape[0], int(index_max_z[i]+INNERCENTEROFFSET))\n",
    "    right_stop = min(z_data_f.shape[0], int(index_max_z[i]+OUTERCENTEROFFSET))\n",
    "    # define row ranges for left and right linear fits\n",
    "    row_range_left = slice(left_start, left_stop)\n",
    "    row_range_right = slice(right_start, right_stop)\n",
    "    # linear fit left and right of the peak\n",
    "    m_left, b_left = np.polyfit(x_data[row_range_left], z_data_f[row_range_left,i], 1)\n",
    "    m_right, b_right = np.polyfit(x_data[row_range_right], z_data_f[row_range_right,i], 1)\n",
    "    x_int[i] = (b_right - b_left) / (m_left - m_right)\n",
    "x_int = x_int.astype(int)\n",
    "\n",
    "print(f\"Median of intersection points: {np.median(x_int*SCALE_X):.1f} mm +- {np.std(x_int*SCALE_X):.1f} mm\")\n"
   ]
  },
  {
   "cell_type": "markdown",
   "id": "74499e5c",
   "metadata": {},
   "source": [
    "**correlate the signal to find repeated scans**"
   ]
  },
  {
   "cell_type": "code",
   "execution_count": 152,
   "id": "af253707",
   "metadata": {},
   "outputs": [
    {
     "name": "stdout",
     "output_type": "stream",
     "text": [
      "Signal repeats at index:, 1443 the data is truncated to 8945 scans\n"
     ]
    },
    {
     "data": {
      "image/png": "[encoded data removed]",
      "text/plain": [
       "<Figure size 640x480 with 1 Axes>"
      ]
     },
     "metadata": {},
     "output_type": "display_data"
    }
   ],
   "source": [
    "OFFSET = 100 # Scans skiped at the beginning to avoid edge effects\n",
    "LASTINDEX = 4000 # last scans, the repeat should be found in\n",
    "\n",
    "y = x_int.astype(float)\n",
    "y1 = (y-np.mean(y[:-1]))/np.std(y[:-1])\n",
    "y2 = (y-np.mean(y[:-1]))/np.std(y[:-1])\n",
    "autocorr = correlate(y1,y2, mode='full')\n",
    "lags = np.arange(-len(y1)+1, len(y1))\n",
    "\n",
    "# Only look at positive lags (right half)\n",
    "autocorr_pos = autocorr[len(y1)-1:]\n",
    "lags_pos = lags[len(y1)-1:]\n",
    "# Find the first peak after lag 0\n",
    "#peaks, _ = find_peaks(autocorr_pos[-4000:], height=np.max(autocorr_pos[-4000:])*0.5)\n",
    "peaks = np.nan\n",
    "peaks = np.argmax(autocorr_pos[-LASTINDEX:])\n",
    "if not np.isnan(peaks):\n",
    "    repeat_index = lags_pos[peaks]  # first peak after lag 0\n",
    "    lstart = 0+OFFSET\n",
    "    lend = len(x_int)-LASTINDEX+repeat_index+OFFSET\n",
    "    print(f\"Signal repeats at index:, {repeat_index} the data is truncated to {lend-lstart} scans\")\n",
    "    #truncate 2D-arrays\n",
    "    x_temp = np.linspace(0,len(x_int),len(x_int))\n",
    "    plt.plot(x_temp, x_int)\n",
    "    lumi_data_t = lumi_data[:,lstart:lend]\n",
    "    lumi_data_f_t = lumi_data_f[:,lstart:lend]\n",
    "    z_data_t = z_data[:,lstart:lend]\n",
    "    z_data_f_t = z_data_f[:,lstart:lend]\n",
    "    x_int_t = x_int[lstart:lend]\n",
    "    plt.plot(x_temp[lstart:lend], x_int_t)\n",
    "    plt.show()\n",
    "else:\n",
    "    print(\"No repeat found.\")"
   ]
  },
  {
   "cell_type": "markdown",
   "id": "33796595",
   "metadata": {},
   "source": [
    "*Rotate, shift, truncate and scale z-Data and lumi data*"
   ]
  },
  {
   "cell_type": "code",
   "execution_count": 153,
   "id": "9f52376c",
   "metadata": {},
   "outputs": [],
   "source": [
    "SAMPLESIZE = 2500 # number of samples in x direction for the final data set\n",
    "x_data_f_r_s = np.linspace(0,SAMPLESIZE,SAMPLESIZE)\n",
    "\n",
    "# rotate data\n",
    "diff = np.mean(calib_z[500:550,1:-1])-np.mean(calib_z[:-50,1:-1]) \n",
    "calibrate = np.linspace(0, -diff, len(calib_z))\n",
    "z_data_f_r = np.zeros(np.shape(z_data_f_t))\n",
    "z_data_f_r = z_data_f_t - calibrate[:, None]\n",
    "\n",
    "\n",
    "#x-Shift and trunc data in x direction\n",
    "z_data_f_r_s = np.zeros((SAMPLESIZE,np.shape(z_data_f_r)[1]))\n",
    "lumi_data_f_s = np.zeros((SAMPLESIZE,np.shape(lumi_data_f)[1]))\n",
    "for i in range(np.shape(z_data_f_r)[1]):\n",
    "    z_data_f_r_s[:,i] = z_data_f_r[x_int[i]:x_int[i]+SAMPLESIZE,i]\n",
    "    lumi_data_f_s[:,i] = lumi_data_f[x_int[i]:x_int[i]+SAMPLESIZE,i]\n",
    "\n",
    "# z-Shift by floor intersection \n",
    "LEFTSTART = 500\n",
    "LEFTSTOP = 1500\n",
    "RIGHTSTART = 2000\n",
    "RIGHTSTOP = 2500\n",
    "x_int_floor = np.zeros(np.shape(z_data_f_r_s)[1])\n",
    "#b_right_mean = np.zeros(np.shape(z_data_f_r_s)[1])\n",
    "polynomial = np.zeros(np.shape(z_data_f_r_s))\n",
    "for i in range(np.shape(z_data_f_t)[1]):\n",
    "    # define left and right fit ranges\n",
    "    # define row ranges for left and right linear fits\n",
    "    row_range_right = slice(RIGHTSTART, RIGHTSTOP)\n",
    "    # linear fit left and right of the peak\n",
    "    b_right = np.mean(z_data_f_r_s[row_range_right,i])\n",
    "    #adaptive calculate the row range left\n",
    "    max_right = np.max(z_data_f_r_s[row_range_right,i])\n",
    "    right_stop = np.where(z_data_f_r_s[:,i] > 1.05*max_right)[0][-1]\n",
    "    right_start = right_stop - 500\n",
    "    row_range_left = slice(right_start, right_stop)\n",
    "    m_left, b_left = np.polyfit(x_data_f_r_s[row_range_left], z_data_f_r_s[row_range_left,i], 1)\n",
    "    x_int_floor[i] = (b_right - b_left) / (m_left)\n",
    "\n",
    "x_int_floor = x_int_floor.astype(int)\n",
    "\n",
    "for i in range(np.shape(z_data_f_r_s)[1]):\n",
    "    z_shift = z_data_f_r_s[x_int_floor[i],i]\n",
    "    z_data_f_r_s[:,i] = z_data_f_r_s[:,i]-z_shift\n",
    "\n",
    "# Convert to object scale\n",
    "z_data_f_r_s_obj = z_data_f_r_s*SCALE_Z\n",
    "x_data_f_r_s_obj = np.linspace(0,SCALE_X*len(z_data_f_r_s),len(z_data_f_r_s))\n"
   ]
  },
  {
   "cell_type": "markdown",
   "id": "dfdf44c6",
   "metadata": {},
   "source": [
    "**Calculate the angle of rotation with the binary code** (not executed)"
   ]
  },
  {
   "cell_type": "code",
   "execution_count": null,
   "id": "1eb0340e",
   "metadata": {},
   "outputs": [],
   "source": [
    "# Issue, transformation of the 12 bit binary works, results are not plausible\n",
    "\n",
    "# LUMISTART = 1910 # start index of the estimation of the binary mask\n",
    "# LUMIOFFSET = 25  # offset to the start index\n",
    "# LUMISTEP = 50 # step width of the binary mask\n",
    "\n",
    "# lumi_mask = np.zeros(np.shape(lumi_data_f_s))\n",
    "# for j in range(lumi_data_f_s.shape[1]):\n",
    "#     lumi_max = np.max(lumi_data_f_s[2200:-1,j])\n",
    "#     lumi_mean = np.mean(lumi_data_f_s[2200:-1,j])\n",
    "#     lumi_mask[:-1,j] = np.where((lumi_data_f_s[:-1,j] >= 600), 1, 0)\n",
    "\n",
    "# binary_angle_code = np.zeros((12,np.shape(lumi_data_f_s)[1]))\n",
    "# for i in range(lumi_mask.shape[1]):\n",
    "#     for j in range(binary_angle_code.shape[0]):\n",
    "#         # sum all elements within the window to check for a binary 1\n",
    "#         lumi_mask_binary_sum = np.sum(lumi_mask[LUMISTART+LUMIOFFSET+(j-1)*LUMISTEP:LUMISTART+LUMIOFFSET+j*LUMISTEP,i])\n",
    "#         if lumi_mask_binary_sum >= 0.7*LUMISTEP:\n",
    "#             binary_angle_code[j,i] = 1\n",
    "\n",
    "# rotation_angle = np.zeros((np.shape(binary_angle_code)[1]))\n",
    "# for i in range(np.shape(rotation_angle)[0]):\n",
    "#     rotation_angle[i] = binary_array_to_decimal(binary_angle_code[:,i])\n",
    "# plt.plot(rotation_angle)\n",
    "# plt.show()"
   ]
  },
  {
   "cell_type": "markdown",
   "id": "d8315f26",
   "metadata": {},
   "source": [
    "**Calculate Cone Volume**"
   ]
  },
  {
   "cell_type": "markdown",
   "id": "70755e70",
   "metadata": {},
   "source": [
    "*Procedure 1: mean radius and mean height* <br>\n",
    "$V_{c,geo} = \\frac{1}{3} \\pi \\bar{r}^2 \\bar{h}$ <br>"
   ]
  },
  {
   "cell_type": "code",
   "execution_count": 154,
   "id": "e1bc7c71",
   "metadata": {},
   "outputs": [
    {
     "name": "stdout",
     "output_type": "stream",
     "text": [
      "Geometrisches Volumen des Kegels: 501.2 cm³\n"
     ]
    }
   ],
   "source": [
    "r_mean = np.mean(x_data_f_r_s_obj[x_int_floor])\n",
    "h_mean = np.mean(z_data_f_r_s_obj[0,:])\n",
    "v_cone_geometrical = (1/3)*np.pi*r_mean*r_mean*h_mean\n",
    "print(f\"Geometrisches Volumen des Kegels: {v_cone_geometrical/1000:.1f} cm³\")"
   ]
  },
  {
   "cell_type": "markdown",
   "id": "4e2af119",
   "metadata": {},
   "source": [
    "*Procedure 2: derived by the mean area* <br>\n",
    "$V_{c,area} = \\bar{A} \\frac{2}{3} \\pi \\bar{r}$ <br>\n",
    "with: <br>\n",
    "$\\bar{A} = \\frac{1}{N}\\sum_{1}^{N} A_i$ <br>\n",
    "and: <br>\n",
    "$A_i = \\frac{z_{i-1}+z_i}{2}\\left(x_{i-1}-x_i\\right)$ (numerical integration using the trapeziodal rule)"
   ]
  },
  {
   "cell_type": "code",
   "execution_count": 155,
   "id": "bc04a4f0",
   "metadata": {},
   "outputs": [
    {
     "name": "stdout",
     "output_type": "stream",
     "text": [
      "Volumen des Kegels über Flächenintegration mit mittleren Radius: 546.7 cm³\n"
     ]
    }
   ],
   "source": [
    "area_local = np.zeros(np.shape(z_data_f_r_s_obj)[1])\n",
    "for i in range(np.shape(z_data_f_r_s_obj)[1]):\n",
    "    area_local[i] = np.trapezoid(z_data_f_r_s_obj[0:x_int_floor[i],i], x_data_f_r_s_obj[0:x_int_floor[i]])\n",
    "area_mean = np.mean(area_local)\n",
    "v_cone_area = area_mean*(2/3)*np.pi*r_mean\n",
    "print(f\"Volumen des Kegels über Flächenintegration mit mittleren Radius: {v_cone_area/1000:.1f} cm³\")"
   ]
  },
  {
   "cell_type": "markdown",
   "id": "9a8a1f99",
   "metadata": {},
   "source": [
    "*Procedure 3: integrating the cone area picewise*"
   ]
  },
  {
   "cell_type": "code",
   "execution_count": 156,
   "id": "89ecbbd5",
   "metadata": {},
   "outputs": [
    {
     "name": "stdout",
     "output_type": "stream",
     "text": [
      "Volumen des Kegels über numerische Integration mit diskretem Radius: 550.3 cm³\n"
     ]
    }
   ],
   "source": [
    "h_map = np.linspace(0,np.max(z_data_f_r_s_obj),100)\n",
    "poloar_coordinate = np.linspace(0,2*np.pi,np.shape(z_data_f_r_s_obj)[1])\n",
    "diff_h_map = np.diff(h_map)[0]\n",
    "diff_polar_coordinate = np.diff(poloar_coordinate)[0]\n",
    "d_area = np.zeros(np.shape(z_data_f_r_s_obj)[1]-1)\n",
    "d_v_cone_numeric = np.zeros(len(area_local))\n",
    "\n",
    "v_cone_numeric = 0.0\n",
    "for i in range(len(area_local)):\n",
    "    ri = x_data_f_r_s_obj[x_int_floor[i]]\n",
    "    v_cone_numeric += area_local[i] *diff_polar_coordinate*ri*(1/3)\n",
    "\n",
    "print(f\"Volumen des Kegels über numerische Integration mit diskretem Radius: {v_cone_numeric/1000:.1f} cm³\")\n"
   ]
  },
  {
   "cell_type": "markdown",
   "id": "930778cb",
   "metadata": {},
   "source": [
    "**Calculate the angle of repose**"
   ]
  },
  {
   "cell_type": "code",
   "execution_count": 212,
   "id": "e26560dc",
   "metadata": {},
   "outputs": [
    {
     "name": "stdout",
     "output_type": "stream",
     "text": [
      "Mittlerer Neigungswinkel des Kegels: 36.79° ± 0.32°\n"
     ]
    }
   ],
   "source": [
    "def calculate_slope_angle(x, z,x_edge_left,x_edge_right,x_edge_offset,ANGLESINPROFILE=1):\n",
    "    # x ... x-coordinates of the slope (n,1)\n",
    "    # z ... z-coordinates of the slope (n,m)\n",
    "    # x_edge_left ... left edge of the slope (n,1)\n",
    "    # x_edge_right ... right edge of the slope (n,1)   \n",
    "    # ANGLESINPROFILE ... number of angles calculated along each slope\n",
    "    angle = np.zeros((np.shape(z)[1],ANGLESINPROFILE))\n",
    "    ind_start = np.zeros((np.shape(z)[1],ANGLESINPROFILE), dtype=int)\n",
    "    ind_stop = np.zeros((np.shape(z)[1],ANGLESINPROFILE), dtype=int) \n",
    "    \n",
    "    for i in range(np.shape(z)[1]):\n",
    "        for j in range(ANGLESINPROFILE):\n",
    "            ind_step = int((x_edge_right[i]-x_edge_left[i]-2*x_edge_offset)/ANGLESINPROFILE)\n",
    "            ind_start[i,j] = x_edge_left[i]+x_edge_offset+(j)*ind_step\n",
    "            ind_stop[i,j] = ind_start[i,j]+ind_step\n",
    "            x_range = slice(ind_start[i,j], ind_stop[i,j])\n",
    "            m, _ = np.polyfit(x[x_range], z[x_range,j], 1)\n",
    "            angle[i,j] = (-1)*np.degrees(np.arctan(m))\n",
    "    return angle, ind_start, ind_stop\n",
    "\n",
    "ANGLESINPROFILE = 1 # angles calculate along each slope\n",
    "\n",
    "angle_local, ind_global_slope_start, ind_global_slope_end = calculate_slope_angle(\n",
    "                x_data_f_r_s_obj, \n",
    "                z_data_f_r_s_obj,\n",
    "                x_int, \n",
    "                x_int_floor,\n",
    "                300,\n",
    "                ANGLESINPROFILE)\n",
    "mean_angle = np.mean(angle_local)\n",
    "std_angle = np.std(angle_local)\n",
    "\n",
    "# calculate aditionaly several angles of repose along each slope\n",
    "angle_local, ind_local_slope_start, ind_local_slope_end = calculate_slope_angle(\n",
    "                x_data_f_r_s_obj, \n",
    "                z_data_f_r_s_obj,\n",
    "                x_int, \n",
    "                x_int_floor,\n",
    "                300,\n",
    "                5)\n",
    "print(f\"Mittlerer Neigungswinkel des Kegels: {mean_angle:.2f}° ± {std_angle:.2f}°\")"
   ]
  },
  {
   "cell_type": "code",
   "execution_count": null,
   "id": "3cf90ea0",
   "metadata": {},
   "outputs": [
    {
     "name": "stdout",
     "output_type": "stream",
     "text": [
      "CSV file 'results.csv' has been created successfully.\n"
     ]
    }
   ],
   "source": [
    "# Sample list of lines as an example\n",
    "res_file_filename = f\"{subset}_{str(trial)}_RES_{datetime.datetime.now().strftime(\"%Y%m%d_%H%M%S\")}.csv\"\n",
    "res_file = os.path.join(folder,res_file_filename)\n",
    "data = [ \n",
    "    ['dry mass' , 'md', dry_mass, 'g'],\n",
    "    ['number of scans', 'n_scans', np.shape(z_data_f_r_s_obj)[1], ''],\n",
    "    ['stadard deviation of x-Positon of cone center', 'std_x_int', np.std(x_int*SCALE_X), 'mm'],\n",
    "    ['standard deviation of x-Positon of floor intersection', 'std_x_int_floor', np.std(x_int_floor*SCALE_X), 'mm'],\n",
    "    ['mean radius of the cone', 'r_mean', r_mean, 'mm'],\n",
    "    ['mean height of the cone', 'h_mean', h_mean, 'mm'],\n",
    "    ['volume of the cone calculated by geometry', 'v_cone_geometrical', v_cone_geometrical, 'mm3'],\n",
    "    ['volume of the cone calculated by area integration', 'v_cone_area', v_cone_area, 'mm3'],\n",
    "    ['volume of the cone calculated by numeric integration', 'v_cone_numeric', v_cone_numeric, 'mm3'],\n",
    "    ['mean slope angle of the cone', 'mean_angle', mean_angle, 'deg'],\n",
    "    ['standard deviation of the slope angle of the cone', 'std_angle', std_angle, 'deg'],\n",
    "    ['x-Position of the start of the slope', 'x_slope_start', np.median(x_data_f_r_s_obj[ind_global_slope_start]), 'mm'],\n",
    "    ['x-Position of the end of the slope', 'x_slope_end', np.median(x_data_f_r_s_obj[ind_global_slope_end]), 'mm']\n",
    "]\n",
    "for i in range(angle_local.shape[1]):\n",
    "    data.append([f'slope angle {i+1}', f'angle_{i+1}', np.mean(angle_local[:,i]), 'deg'])\n",
    "    data.append([f'x-Position of the start of the slope angle {i+1}', f'x_local_slope_start_{i+1}', np.median(x_data_f_r_s_obj[ind_local_slope_start[:,i]]), 'mm'])\n",
    "    data.append([f'x-Position of the end of the slope angle {i+1}', f'x_local_slope_end_{i+1}', np.median(x_data_f_r_s_obj[ind_local_slope_end[:,i]]), 'mm'])\n",
    "# Open or create a CSV file in write mode\n",
    "with open(res_file, 'w', newline='') as csvfile: # Create a CSV writer object\n",
    "    csvwriter = csv.writer(csvfile)\n",
    "    # Write the header row\n",
    "    csvwriter.writerow(['Description','Parameter', 'Value', 'Unit'])\n",
    "    csvwriter.writerows(data)\n",
    "print(\"CSV file 'results.csv' has been created successfully.\")"
   ]
  }
 ],
 "metadata": {
  "kernelspec": {
   "display_name": "base",
   "language": "python",
   "name": "python3"
  },
  "language_info": {
   "codemirror_mode": {
    "name": "ipython",
    "version": 3
   },
   "file_extension": ".py",
   "mimetype": "text/x-python",
   "name": "python",
   "nbconvert_exporter": "python",
   "pygments_lexer": "ipython3",
   "version": "3.13.5"
  }
 },
 "nbformat": 4,
 "nbformat_minor": 5
}
